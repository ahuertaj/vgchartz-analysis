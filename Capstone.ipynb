{
  "nbformat": 4,
  "nbformat_minor": 0,
  "metadata": {
    "colab": {
      "name": "Capstone.ipynb",
      "provenance": [],
      "collapsed_sections": [],
      "authorship_tag": "ABX9TyNDJZOqPN5gjjbmUM0B9/4g",
      "include_colab_link": true
    },
    "kernelspec": {
      "name": "python3",
      "display_name": "Python 3"
    },
    "language_info": {
      "name": "python"
    }
  },
  "cells": [
    {
      "cell_type": "markdown",
      "metadata": {
        "id": "view-in-github",
        "colab_type": "text"
      },
      "source": [
        "<a href=\"https://colab.research.google.com/github/huertaj2/vgchartz-analysis/blob/main/Capstone.ipynb\" target=\"_parent\"><img src=\"https://colab.research.google.com/assets/colab-badge.svg\" alt=\"Open In Colab\"/></a>"
      ]
    },
    {
      "cell_type": "markdown",
      "source": [
        "# **Final Capstone for Jacob Huerta, January 2022**"
      ],
      "metadata": {
        "id": "QoP5aYqIsxVF"
      }
    },
    {
      "cell_type": "markdown",
      "source": [
        "**Overview**\n",
        "\n",
        "This project is a self-driven, beginning to end analysis of video game sales data. The project proposal is [here](https://docs.google.com/document/d/1jOY6351Ut2G-JyoFCNDj3jQTjyMydwdkip1dXUupM8w/edit?usp=sharing); in order to keep this Notebook tidy I will not recap what is in the proposal. "
      ],
      "metadata": {
        "id": "2Dx8-FVRnA1j"
      }
    },
    {
      "cell_type": "markdown",
      "source": [
        "**Section 1: Importing Data**\n",
        "\n",
        "Note that this script is a [fork](https://github.com/huertaj2/vgchartzScrape/) from the original so that we can scrape specific release days, not just years. This requires parsing the whole script and modifying the sections that deal with the date, which I did myself. Because the format of the date on vgcharts is e.g. \"25th Jun 89\", I had to do some parsing and cleaning to get it into a machine-readable state. I edited lines 84 through 104 as well as a few small other changes. I included an example of the section I changed below. This is a self contained code block and does not need to be run to execute the rest of those workbook."
      ],
      "metadata": {
        "id": "XPGgVU5EuXSi"
      }
    },
    {
      "cell_type": "code",
      "source": [
        "import datetime as dt\n",
        "#create mock lists for the date based on original script\n",
        "date=[]\n",
        "#create example release date, formatted as list based on original script\n",
        "release_date = [\"25th\", \"Jun\", \"89\"]\n",
        "#format for entries that do not have a release date\n",
        "if release_date[0] == 'N/A':\n",
        "            date.append('N/A')\n",
        "else:\n",
        "            day = release_date[0]\n",
        "            #remove th, st, nd, etc:\n",
        "            day = day[0:2]\n",
        "            year = release_date[2]\n",
        "            #format year as 4 digit number\n",
        "            if int(year) >= 80:\n",
        "                year = 1900 + int(year)\n",
        "            else:\n",
        "                year = 2000 + int(year)\n",
        "            #turn pieces back into string\n",
        "            date_to_add = '{}/{}/{}'.format(day, release_date[1], year)\n",
        "            #format as datetime\n",
        "            d= dt.datetime.strptime(date_to_add, \"%d/%b/%Y\")\n",
        "            print(d)\n",
        "            "
      ],
      "metadata": {
        "colab": {
          "base_uri": "https://localhost:8080/"
        },
        "id": "EQHhiCVlszA3",
        "outputId": "df302189-2a31-4332-fd2e-658f217d59b8"
      },
      "execution_count": null,
      "outputs": [
        {
          "output_type": "stream",
          "name": "stdout",
          "text": [
            "1989-06-25 00:00:00\n"
          ]
        }
      ]
    },
    {
      "cell_type": "markdown",
      "source": [
        "After I reworked this section of code, of course, I discovered more fundamental issues with the data source. The website has changed formats over the years since this scraper was first written, and SSL (encrypted browsing) has become the norm. I spent a significant amount of time experimenting with the scraper and working on github to find other forks that had fixed problems that cropped up.\n",
        "\n",
        "As part of this process, I discovered that vgchartz stopped making software sales estimates as of 2018. As a result, I have decided to change the scope of this project slightly. Rather than focus on pandemic-related sales changes, I am going to focus on other trends. Even though I was able to get the scraper running properly and downloaded a few different versions of the dataset from vgchartz, for this project I will use the dataset from Kaggle, as the process of scraping Genre tags in particular is extremely time consuming and they are already included in the Kaggle set. We will focus on Global Sales.\n",
        "\n",
        "# Revised Hyotheses\n",
        "\n",
        "H1a: There is a statistically significant increase in the sales of Sports games in 2015 vs 2005. Sports games have moved to annual releases in many series, and I expect the plethora of options available in more recent years have increased sales.\n",
        "\n",
        "H10: There is no statistical significance in Sports game sales between 2015 and 2005.\n",
        "\n",
        "H2a: There is a statistically significant increase in PC game sales in 2008 vs 2012. Minecraft was released in 2011, and it proved to be so popular that I expect PC gaming took off as a result.\n",
        "\n",
        "H20: There is no statistically significant change in PC game sales in 2010 vs 2015.\n",
        "\n",
        "\n",
        "Bonus: I'm also interested in comparing all sales of games for PC vs all consoles.\n",
        "# Initial Analysis\n",
        "\n",
        "To begin, I will import relevant libraries, import the dataset as a DataFrame, look at the overall shape and contents. Then I will do some basic cleaning."
      ],
      "metadata": {
        "id": "BKmY4dms5Hny"
      }
    },
    {
      "cell_type": "code",
      "source": [
        "#import libraries\n",
        "import pandas as pd\n",
        "from matplotlib import pyplot as plt\n",
        "%matplotlib inline\n",
        "import matplotlib as mpl\n",
        "import seaborn as sns \n",
        "sns.set()\n",
        "from scipy import stats\n",
        "import numpy as np\n",
        "import random\n",
        "#format access to dataset\n",
        "url='https://raw.githubusercontent.com/huertaj2/Capstone-Project/main/vgsales.csv'\n",
        "df = pd.read_csv(url)\n",
        "#old way of reading from gdrive:\n",
        "#from google.colab import drive\n",
        "#drive.mount('/content/gdrive')\n",
        "#df = pd.read_csv('/content/gdrive/My Drive/Dataset/vgsales.csv')\n",
        "\n"
      ],
      "metadata": {
        "id": "wkGTSWxy2CL9"
      },
      "execution_count": null,
      "outputs": []
    },
    {
      "cell_type": "code",
      "source": [
        "#look at basic dataset information\n",
        "df.head()\n",
        "df.info()\n",
        "df.describe()"
      ],
      "metadata": {
        "colab": {
          "base_uri": "https://localhost:8080/",
          "height": 693
        },
        "id": "0y9CrtGdclA9",
        "outputId": "129aa330-6884-495e-c692-db62a3bcff5a"
      },
      "execution_count": null,
      "outputs": [
        {
          "output_type": "stream",
          "name": "stdout",
          "text": [
            "<class 'pandas.core.frame.DataFrame'>\n",
            "RangeIndex: 16598 entries, 0 to 16597\n",
            "Data columns (total 11 columns):\n",
            " #   Column        Non-Null Count  Dtype  \n",
            "---  ------        --------------  -----  \n",
            " 0   Rank          16598 non-null  int64  \n",
            " 1   Name          16598 non-null  object \n",
            " 2   Platform      16598 non-null  object \n",
            " 3   Year          16327 non-null  float64\n",
            " 4   Genre         16598 non-null  object \n",
            " 5   Publisher     16540 non-null  object \n",
            " 6   NA_Sales      16598 non-null  float64\n",
            " 7   EU_Sales      16598 non-null  float64\n",
            " 8   JP_Sales      16598 non-null  float64\n",
            " 9   Other_Sales   16598 non-null  float64\n",
            " 10  Global_Sales  16598 non-null  float64\n",
            "dtypes: float64(6), int64(1), object(4)\n",
            "memory usage: 1.4+ MB\n"
          ]
        },
        {
          "output_type": "execute_result",
          "data": {
            "text/html": [
              "\n",
              "  <div id=\"df-11ee27a6-b32e-4766-badb-05a05cba320e\">\n",
              "    <div class=\"colab-df-container\">\n",
              "      <div>\n",
              "<style scoped>\n",
              "    .dataframe tbody tr th:only-of-type {\n",
              "        vertical-align: middle;\n",
              "    }\n",
              "\n",
              "    .dataframe tbody tr th {\n",
              "        vertical-align: top;\n",
              "    }\n",
              "\n",
              "    .dataframe thead th {\n",
              "        text-align: right;\n",
              "    }\n",
              "</style>\n",
              "<table border=\"1\" class=\"dataframe\">\n",
              "  <thead>\n",
              "    <tr style=\"text-align: right;\">\n",
              "      <th></th>\n",
              "      <th>Rank</th>\n",
              "      <th>Year</th>\n",
              "      <th>NA_Sales</th>\n",
              "      <th>EU_Sales</th>\n",
              "      <th>JP_Sales</th>\n",
              "      <th>Other_Sales</th>\n",
              "      <th>Global_Sales</th>\n",
              "    </tr>\n",
              "  </thead>\n",
              "  <tbody>\n",
              "    <tr>\n",
              "      <th>count</th>\n",
              "      <td>16598.000000</td>\n",
              "      <td>16327.000000</td>\n",
              "      <td>16598.000000</td>\n",
              "      <td>16598.000000</td>\n",
              "      <td>16598.000000</td>\n",
              "      <td>16598.000000</td>\n",
              "      <td>16598.000000</td>\n",
              "    </tr>\n",
              "    <tr>\n",
              "      <th>mean</th>\n",
              "      <td>8300.605254</td>\n",
              "      <td>2006.406443</td>\n",
              "      <td>0.264667</td>\n",
              "      <td>0.146652</td>\n",
              "      <td>0.077782</td>\n",
              "      <td>0.048063</td>\n",
              "      <td>0.537441</td>\n",
              "    </tr>\n",
              "    <tr>\n",
              "      <th>std</th>\n",
              "      <td>4791.853933</td>\n",
              "      <td>5.828981</td>\n",
              "      <td>0.816683</td>\n",
              "      <td>0.505351</td>\n",
              "      <td>0.309291</td>\n",
              "      <td>0.188588</td>\n",
              "      <td>1.555028</td>\n",
              "    </tr>\n",
              "    <tr>\n",
              "      <th>min</th>\n",
              "      <td>1.000000</td>\n",
              "      <td>1980.000000</td>\n",
              "      <td>0.000000</td>\n",
              "      <td>0.000000</td>\n",
              "      <td>0.000000</td>\n",
              "      <td>0.000000</td>\n",
              "      <td>0.010000</td>\n",
              "    </tr>\n",
              "    <tr>\n",
              "      <th>25%</th>\n",
              "      <td>4151.250000</td>\n",
              "      <td>2003.000000</td>\n",
              "      <td>0.000000</td>\n",
              "      <td>0.000000</td>\n",
              "      <td>0.000000</td>\n",
              "      <td>0.000000</td>\n",
              "      <td>0.060000</td>\n",
              "    </tr>\n",
              "    <tr>\n",
              "      <th>50%</th>\n",
              "      <td>8300.500000</td>\n",
              "      <td>2007.000000</td>\n",
              "      <td>0.080000</td>\n",
              "      <td>0.020000</td>\n",
              "      <td>0.000000</td>\n",
              "      <td>0.010000</td>\n",
              "      <td>0.170000</td>\n",
              "    </tr>\n",
              "    <tr>\n",
              "      <th>75%</th>\n",
              "      <td>12449.750000</td>\n",
              "      <td>2010.000000</td>\n",
              "      <td>0.240000</td>\n",
              "      <td>0.110000</td>\n",
              "      <td>0.040000</td>\n",
              "      <td>0.040000</td>\n",
              "      <td>0.470000</td>\n",
              "    </tr>\n",
              "    <tr>\n",
              "      <th>max</th>\n",
              "      <td>16600.000000</td>\n",
              "      <td>2020.000000</td>\n",
              "      <td>41.490000</td>\n",
              "      <td>29.020000</td>\n",
              "      <td>10.220000</td>\n",
              "      <td>10.570000</td>\n",
              "      <td>82.740000</td>\n",
              "    </tr>\n",
              "  </tbody>\n",
              "</table>\n",
              "</div>\n",
              "      <button class=\"colab-df-convert\" onclick=\"convertToInteractive('df-11ee27a6-b32e-4766-badb-05a05cba320e')\"\n",
              "              title=\"Convert this dataframe to an interactive table.\"\n",
              "              style=\"display:none;\">\n",
              "        \n",
              "  <svg xmlns=\"http://www.w3.org/2000/svg\" height=\"24px\"viewBox=\"0 0 24 24\"\n",
              "       width=\"24px\">\n",
              "    <path d=\"M0 0h24v24H0V0z\" fill=\"none\"/>\n",
              "    <path d=\"M18.56 5.44l.94 2.06.94-2.06 2.06-.94-2.06-.94-.94-2.06-.94 2.06-2.06.94zm-11 1L8.5 8.5l.94-2.06 2.06-.94-2.06-.94L8.5 2.5l-.94 2.06-2.06.94zm10 10l.94 2.06.94-2.06 2.06-.94-2.06-.94-.94-2.06-.94 2.06-2.06.94z\"/><path d=\"M17.41 7.96l-1.37-1.37c-.4-.4-.92-.59-1.43-.59-.52 0-1.04.2-1.43.59L10.3 9.45l-7.72 7.72c-.78.78-.78 2.05 0 2.83L4 21.41c.39.39.9.59 1.41.59.51 0 1.02-.2 1.41-.59l7.78-7.78 2.81-2.81c.8-.78.8-2.07 0-2.86zM5.41 20L4 18.59l7.72-7.72 1.47 1.35L5.41 20z\"/>\n",
              "  </svg>\n",
              "      </button>\n",
              "      \n",
              "  <style>\n",
              "    .colab-df-container {\n",
              "      display:flex;\n",
              "      flex-wrap:wrap;\n",
              "      gap: 12px;\n",
              "    }\n",
              "\n",
              "    .colab-df-convert {\n",
              "      background-color: #E8F0FE;\n",
              "      border: none;\n",
              "      border-radius: 50%;\n",
              "      cursor: pointer;\n",
              "      display: none;\n",
              "      fill: #1967D2;\n",
              "      height: 32px;\n",
              "      padding: 0 0 0 0;\n",
              "      width: 32px;\n",
              "    }\n",
              "\n",
              "    .colab-df-convert:hover {\n",
              "      background-color: #E2EBFA;\n",
              "      box-shadow: 0px 1px 2px rgba(60, 64, 67, 0.3), 0px 1px 3px 1px rgba(60, 64, 67, 0.15);\n",
              "      fill: #174EA6;\n",
              "    }\n",
              "\n",
              "    [theme=dark] .colab-df-convert {\n",
              "      background-color: #3B4455;\n",
              "      fill: #D2E3FC;\n",
              "    }\n",
              "\n",
              "    [theme=dark] .colab-df-convert:hover {\n",
              "      background-color: #434B5C;\n",
              "      box-shadow: 0px 1px 3px 1px rgba(0, 0, 0, 0.15);\n",
              "      filter: drop-shadow(0px 1px 2px rgba(0, 0, 0, 0.3));\n",
              "      fill: #FFFFFF;\n",
              "    }\n",
              "  </style>\n",
              "\n",
              "      <script>\n",
              "        const buttonEl =\n",
              "          document.querySelector('#df-11ee27a6-b32e-4766-badb-05a05cba320e button.colab-df-convert');\n",
              "        buttonEl.style.display =\n",
              "          google.colab.kernel.accessAllowed ? 'block' : 'none';\n",
              "\n",
              "        async function convertToInteractive(key) {\n",
              "          const element = document.querySelector('#df-11ee27a6-b32e-4766-badb-05a05cba320e');\n",
              "          const dataTable =\n",
              "            await google.colab.kernel.invokeFunction('convertToInteractive',\n",
              "                                                     [key], {});\n",
              "          if (!dataTable) return;\n",
              "\n",
              "          const docLinkHtml = 'Like what you see? Visit the ' +\n",
              "            '<a target=\"_blank\" href=https://colab.research.google.com/notebooks/data_table.ipynb>data table notebook</a>'\n",
              "            + ' to learn more about interactive tables.';\n",
              "          element.innerHTML = '';\n",
              "          dataTable['output_type'] = 'display_data';\n",
              "          await google.colab.output.renderOutput(dataTable, element);\n",
              "          const docLink = document.createElement('div');\n",
              "          docLink.innerHTML = docLinkHtml;\n",
              "          element.appendChild(docLink);\n",
              "        }\n",
              "      </script>\n",
              "    </div>\n",
              "  </div>\n",
              "  "
            ],
            "text/plain": [
              "               Rank          Year  ...   Other_Sales  Global_Sales\n",
              "count  16598.000000  16327.000000  ...  16598.000000  16598.000000\n",
              "mean    8300.605254   2006.406443  ...      0.048063      0.537441\n",
              "std     4791.853933      5.828981  ...      0.188588      1.555028\n",
              "min        1.000000   1980.000000  ...      0.000000      0.010000\n",
              "25%     4151.250000   2003.000000  ...      0.000000      0.060000\n",
              "50%     8300.500000   2007.000000  ...      0.010000      0.170000\n",
              "75%    12449.750000   2010.000000  ...      0.040000      0.470000\n",
              "max    16600.000000   2020.000000  ...     10.570000     82.740000\n",
              "\n",
              "[8 rows x 7 columns]"
            ]
          },
          "metadata": {},
          "execution_count": 3
        }
      ]
    },
    {
      "cell_type": "code",
      "source": [
        "#get null count for crucial columns\n",
        "print(df['Global_Sales'].isnull().sum())\n",
        "print(df['Genre'].isnull().sum())\n",
        "print(df['Platform'].isnull().sum())\n",
        "print(df['Year'].isnull().sum())"
      ],
      "metadata": {
        "colab": {
          "base_uri": "https://localhost:8080/"
        },
        "id": "164zpYJBdN4k",
        "outputId": "57a5cab0-71ec-4e78-8b79-d1033f01701d"
      },
      "execution_count": null,
      "outputs": [
        {
          "output_type": "stream",
          "name": "stdout",
          "text": [
            "0\n",
            "0\n",
            "0\n",
            "271\n"
          ]
        }
      ]
    },
    {
      "cell_type": "markdown",
      "source": [
        "Since we have some null years, and we need to filter by year, we will drop game listings that have a null year."
      ],
      "metadata": {
        "id": "MqOP0AKdqEmD"
      }
    },
    {
      "cell_type": "code",
      "source": [
        "#drop games with n/a (0) as the year:\n",
        "df = df.dropna(subset=['Year'])\n",
        "df.info()\n",
        "print(df['Year'].isnull().sum())"
      ],
      "metadata": {
        "colab": {
          "base_uri": "https://localhost:8080/"
        },
        "id": "nUo7a5aSqdP0",
        "outputId": "386fa396-54fc-4307-b60c-cdbcc69f0317"
      },
      "execution_count": null,
      "outputs": [
        {
          "output_type": "stream",
          "name": "stdout",
          "text": [
            "<class 'pandas.core.frame.DataFrame'>\n",
            "Int64Index: 16327 entries, 0 to 16597\n",
            "Data columns (total 11 columns):\n",
            " #   Column        Non-Null Count  Dtype  \n",
            "---  ------        --------------  -----  \n",
            " 0   Rank          16327 non-null  int64  \n",
            " 1   Name          16327 non-null  object \n",
            " 2   Platform      16327 non-null  object \n",
            " 3   Year          16327 non-null  float64\n",
            " 4   Genre         16327 non-null  object \n",
            " 5   Publisher     16291 non-null  object \n",
            " 6   NA_Sales      16327 non-null  float64\n",
            " 7   EU_Sales      16327 non-null  float64\n",
            " 8   JP_Sales      16327 non-null  float64\n",
            " 9   Other_Sales   16327 non-null  float64\n",
            " 10  Global_Sales  16327 non-null  float64\n",
            "dtypes: float64(6), int64(1), object(4)\n",
            "memory usage: 1.5+ MB\n",
            "0\n"
          ]
        }
      ]
    },
    {
      "cell_type": "code",
      "source": [
        "#get unique count for relevant columns\n",
        "print(df['Genre'].nunique())\n",
        "print(df['Platform'].nunique())"
      ],
      "metadata": {
        "colab": {
          "base_uri": "https://localhost:8080/"
        },
        "id": "CwllyPoHgXtj",
        "outputId": "ccf74c34-d152-4892-bd86-99b2dc80cc97"
      },
      "execution_count": null,
      "outputs": [
        {
          "output_type": "stream",
          "name": "stdout",
          "text": [
            "12\n",
            "31\n"
          ]
        }
      ]
    },
    {
      "cell_type": "code",
      "source": [
        "#drop columns we don't need, for efficiency's sake\n",
        "labels= ['Rank', 'EU_Sales', 'JP_Sales', 'Other_Sales', 'Publisher', 'NA_Sales']\n",
        "df=df.drop(labels, axis=1)\n",
        "df.info()"
      ],
      "metadata": {
        "colab": {
          "base_uri": "https://localhost:8080/"
        },
        "id": "w3ScFf5Bn4HL",
        "outputId": "d819f4b4-eff7-4f14-8552-1cb4c6a74f26"
      },
      "execution_count": null,
      "outputs": [
        {
          "output_type": "stream",
          "name": "stdout",
          "text": [
            "<class 'pandas.core.frame.DataFrame'>\n",
            "Int64Index: 16327 entries, 0 to 16597\n",
            "Data columns (total 5 columns):\n",
            " #   Column        Non-Null Count  Dtype  \n",
            "---  ------        --------------  -----  \n",
            " 0   Name          16327 non-null  object \n",
            " 1   Platform      16327 non-null  object \n",
            " 2   Year          16327 non-null  float64\n",
            " 3   Genre         16327 non-null  object \n",
            " 4   Global_Sales  16327 non-null  float64\n",
            "dtypes: float64(2), object(3)\n",
            "memory usage: 765.3+ KB\n"
          ]
        }
      ]
    },
    {
      "cell_type": "code",
      "source": [
        "#convert year to integer\n",
        "df['Year'] = df['Year'].astype(int)\n",
        "df.info()"
      ],
      "metadata": {
        "colab": {
          "base_uri": "https://localhost:8080/"
        },
        "id": "y-lrhoE0p5H8",
        "outputId": "4a14e1fd-bb39-4a94-a71b-d99e3fb49591"
      },
      "execution_count": null,
      "outputs": [
        {
          "output_type": "stream",
          "name": "stdout",
          "text": [
            "<class 'pandas.core.frame.DataFrame'>\n",
            "Int64Index: 16327 entries, 0 to 16597\n",
            "Data columns (total 5 columns):\n",
            " #   Column        Non-Null Count  Dtype  \n",
            "---  ------        --------------  -----  \n",
            " 0   Name          16327 non-null  object \n",
            " 1   Platform      16327 non-null  object \n",
            " 2   Year          16327 non-null  int64  \n",
            " 3   Genre         16327 non-null  object \n",
            " 4   Global_Sales  16327 non-null  float64\n",
            "dtypes: float64(1), int64(1), object(3)\n",
            "memory usage: 765.3+ KB\n"
          ]
        }
      ]
    },
    {
      "cell_type": "code",
      "source": [
        "#print unique entries to confirm we have no duplicates or typos, now that we've confirmed there won't be too many entries\n",
        "print(df['Genre'].unique())\n",
        "print(df['Platform'].unique())\n",
        "\n",
        "#add random column for internal testing later\n",
        "df['Rand']= np.random.randint(0,2,len(df))\n",
        "df.head()"
      ],
      "metadata": {
        "colab": {
          "base_uri": "https://localhost:8080/",
          "height": 297
        },
        "id": "OWF2nu1qgjzX",
        "outputId": "60c838c4-3cf5-4e55-dced-8e09bc0bb5cc"
      },
      "execution_count": null,
      "outputs": [
        {
          "output_type": "stream",
          "name": "stdout",
          "text": [
            "['Sports' 'Platform' 'Racing' 'Role-Playing' 'Puzzle' 'Misc' 'Shooter'\n",
            " 'Simulation' 'Action' 'Fighting' 'Adventure' 'Strategy']\n",
            "['Wii' 'NES' 'GB' 'DS' 'X360' 'PS3' 'PS2' 'SNES' 'GBA' '3DS' 'PS4' 'N64'\n",
            " 'PS' 'XB' 'PC' '2600' 'PSP' 'XOne' 'GC' 'WiiU' 'GEN' 'DC' 'PSV' 'SAT'\n",
            " 'SCD' 'WS' 'NG' 'TG16' '3DO' 'GG' 'PCFX']\n"
          ]
        },
        {
          "output_type": "execute_result",
          "data": {
            "text/html": [
              "\n",
              "  <div id=\"df-bd1bf309-188e-45a1-99b9-fb01f5411438\">\n",
              "    <div class=\"colab-df-container\">\n",
              "      <div>\n",
              "<style scoped>\n",
              "    .dataframe tbody tr th:only-of-type {\n",
              "        vertical-align: middle;\n",
              "    }\n",
              "\n",
              "    .dataframe tbody tr th {\n",
              "        vertical-align: top;\n",
              "    }\n",
              "\n",
              "    .dataframe thead th {\n",
              "        text-align: right;\n",
              "    }\n",
              "</style>\n",
              "<table border=\"1\" class=\"dataframe\">\n",
              "  <thead>\n",
              "    <tr style=\"text-align: right;\">\n",
              "      <th></th>\n",
              "      <th>Name</th>\n",
              "      <th>Platform</th>\n",
              "      <th>Year</th>\n",
              "      <th>Genre</th>\n",
              "      <th>Global_Sales</th>\n",
              "      <th>Rand</th>\n",
              "    </tr>\n",
              "  </thead>\n",
              "  <tbody>\n",
              "    <tr>\n",
              "      <th>0</th>\n",
              "      <td>Wii Sports</td>\n",
              "      <td>Wii</td>\n",
              "      <td>2006</td>\n",
              "      <td>Sports</td>\n",
              "      <td>82.74</td>\n",
              "      <td>1</td>\n",
              "    </tr>\n",
              "    <tr>\n",
              "      <th>1</th>\n",
              "      <td>Super Mario Bros.</td>\n",
              "      <td>NES</td>\n",
              "      <td>1985</td>\n",
              "      <td>Platform</td>\n",
              "      <td>40.24</td>\n",
              "      <td>0</td>\n",
              "    </tr>\n",
              "    <tr>\n",
              "      <th>2</th>\n",
              "      <td>Mario Kart Wii</td>\n",
              "      <td>Wii</td>\n",
              "      <td>2008</td>\n",
              "      <td>Racing</td>\n",
              "      <td>35.82</td>\n",
              "      <td>0</td>\n",
              "    </tr>\n",
              "    <tr>\n",
              "      <th>3</th>\n",
              "      <td>Wii Sports Resort</td>\n",
              "      <td>Wii</td>\n",
              "      <td>2009</td>\n",
              "      <td>Sports</td>\n",
              "      <td>33.00</td>\n",
              "      <td>0</td>\n",
              "    </tr>\n",
              "    <tr>\n",
              "      <th>4</th>\n",
              "      <td>Pokemon Red/Pokemon Blue</td>\n",
              "      <td>GB</td>\n",
              "      <td>1996</td>\n",
              "      <td>Role-Playing</td>\n",
              "      <td>31.37</td>\n",
              "      <td>0</td>\n",
              "    </tr>\n",
              "  </tbody>\n",
              "</table>\n",
              "</div>\n",
              "      <button class=\"colab-df-convert\" onclick=\"convertToInteractive('df-bd1bf309-188e-45a1-99b9-fb01f5411438')\"\n",
              "              title=\"Convert this dataframe to an interactive table.\"\n",
              "              style=\"display:none;\">\n",
              "        \n",
              "  <svg xmlns=\"http://www.w3.org/2000/svg\" height=\"24px\"viewBox=\"0 0 24 24\"\n",
              "       width=\"24px\">\n",
              "    <path d=\"M0 0h24v24H0V0z\" fill=\"none\"/>\n",
              "    <path d=\"M18.56 5.44l.94 2.06.94-2.06 2.06-.94-2.06-.94-.94-2.06-.94 2.06-2.06.94zm-11 1L8.5 8.5l.94-2.06 2.06-.94-2.06-.94L8.5 2.5l-.94 2.06-2.06.94zm10 10l.94 2.06.94-2.06 2.06-.94-2.06-.94-.94-2.06-.94 2.06-2.06.94z\"/><path d=\"M17.41 7.96l-1.37-1.37c-.4-.4-.92-.59-1.43-.59-.52 0-1.04.2-1.43.59L10.3 9.45l-7.72 7.72c-.78.78-.78 2.05 0 2.83L4 21.41c.39.39.9.59 1.41.59.51 0 1.02-.2 1.41-.59l7.78-7.78 2.81-2.81c.8-.78.8-2.07 0-2.86zM5.41 20L4 18.59l7.72-7.72 1.47 1.35L5.41 20z\"/>\n",
              "  </svg>\n",
              "      </button>\n",
              "      \n",
              "  <style>\n",
              "    .colab-df-container {\n",
              "      display:flex;\n",
              "      flex-wrap:wrap;\n",
              "      gap: 12px;\n",
              "    }\n",
              "\n",
              "    .colab-df-convert {\n",
              "      background-color: #E8F0FE;\n",
              "      border: none;\n",
              "      border-radius: 50%;\n",
              "      cursor: pointer;\n",
              "      display: none;\n",
              "      fill: #1967D2;\n",
              "      height: 32px;\n",
              "      padding: 0 0 0 0;\n",
              "      width: 32px;\n",
              "    }\n",
              "\n",
              "    .colab-df-convert:hover {\n",
              "      background-color: #E2EBFA;\n",
              "      box-shadow: 0px 1px 2px rgba(60, 64, 67, 0.3), 0px 1px 3px 1px rgba(60, 64, 67, 0.15);\n",
              "      fill: #174EA6;\n",
              "    }\n",
              "\n",
              "    [theme=dark] .colab-df-convert {\n",
              "      background-color: #3B4455;\n",
              "      fill: #D2E3FC;\n",
              "    }\n",
              "\n",
              "    [theme=dark] .colab-df-convert:hover {\n",
              "      background-color: #434B5C;\n",
              "      box-shadow: 0px 1px 3px 1px rgba(0, 0, 0, 0.15);\n",
              "      filter: drop-shadow(0px 1px 2px rgba(0, 0, 0, 0.3));\n",
              "      fill: #FFFFFF;\n",
              "    }\n",
              "  </style>\n",
              "\n",
              "      <script>\n",
              "        const buttonEl =\n",
              "          document.querySelector('#df-bd1bf309-188e-45a1-99b9-fb01f5411438 button.colab-df-convert');\n",
              "        buttonEl.style.display =\n",
              "          google.colab.kernel.accessAllowed ? 'block' : 'none';\n",
              "\n",
              "        async function convertToInteractive(key) {\n",
              "          const element = document.querySelector('#df-bd1bf309-188e-45a1-99b9-fb01f5411438');\n",
              "          const dataTable =\n",
              "            await google.colab.kernel.invokeFunction('convertToInteractive',\n",
              "                                                     [key], {});\n",
              "          if (!dataTable) return;\n",
              "\n",
              "          const docLinkHtml = 'Like what you see? Visit the ' +\n",
              "            '<a target=\"_blank\" href=https://colab.research.google.com/notebooks/data_table.ipynb>data table notebook</a>'\n",
              "            + ' to learn more about interactive tables.';\n",
              "          element.innerHTML = '';\n",
              "          dataTable['output_type'] = 'display_data';\n",
              "          await google.colab.output.renderOutput(dataTable, element);\n",
              "          const docLink = document.createElement('div');\n",
              "          docLink.innerHTML = docLinkHtml;\n",
              "          element.appendChild(docLink);\n",
              "        }\n",
              "      </script>\n",
              "    </div>\n",
              "  </div>\n",
              "  "
            ],
            "text/plain": [
              "                       Name Platform  Year         Genre  Global_Sales  Rand\n",
              "0                Wii Sports      Wii  2006        Sports         82.74     1\n",
              "1         Super Mario Bros.      NES  1985      Platform         40.24     0\n",
              "2            Mario Kart Wii      Wii  2008        Racing         35.82     0\n",
              "3         Wii Sports Resort      Wii  2009        Sports         33.00     0\n",
              "4  Pokemon Red/Pokemon Blue       GB  1996  Role-Playing         31.37     0"
            ]
          },
          "metadata": {},
          "execution_count": 9
        }
      ]
    },
    {
      "cell_type": "markdown",
      "source": [
        "# Sports Analysis\n",
        "Arguably, Racing and Sports games could really be considered part of the same genre. As such, rather than having to potentially add the sales from those two categories together multiple times over the course of this analysis, I will add a column that flags if a game is either a Racing or a Sports game, and we will use that column to filter our \"Sports\" analysis. It doesn't look like we need to do any additional organizing for the \"PC\" platform. \n",
        "\n",
        "For our \"bonus\" analysis later, we'll need to make a column flagging portable systems, which would be: GB, DS, GBA, 3DS, PSV, and PSP. "
      ],
      "metadata": {
        "id": "9T5q7mpNhM4J"
      }
    },
    {
      "cell_type": "code",
      "source": [
        "#create new dataframe:\n",
        "df_sports=df.copy()\n",
        "#create new column prefilled with 'False'\n",
        "df_sports['Sports_and_Racing'] = False\n",
        "#overwrite column with 'True' where applicable\n",
        "df_sports.loc[df['Genre'] == 'Sports', 'Sports_and_Racing'] = True\n",
        "df_sports.loc[df['Genre'] == 'Racing', 'Sports_and_Racing'] = True"
      ],
      "metadata": {
        "id": "33Ic57dthj7B"
      },
      "execution_count": null,
      "outputs": []
    },
    {
      "cell_type": "code",
      "source": [
        "#filter our new dataframe to just include sports and racing games\n",
        "df_sports=df_sports.loc[df_sports['Sports_and_Racing']==True]\n",
        "df_sports.head()\n"
      ],
      "metadata": {
        "id": "gXgk_Tl51fKO",
        "colab": {
          "base_uri": "https://localhost:8080/",
          "height": 206
        },
        "outputId": "524ebb8c-6048-4cfa-c050-a4f5ead1a7e5"
      },
      "execution_count": null,
      "outputs": [
        {
          "output_type": "execute_result",
          "data": {
            "text/html": [
              "\n",
              "  <div id=\"df-049cf01a-cf84-48d5-a300-436895f20eb6\">\n",
              "    <div class=\"colab-df-container\">\n",
              "      <div>\n",
              "<style scoped>\n",
              "    .dataframe tbody tr th:only-of-type {\n",
              "        vertical-align: middle;\n",
              "    }\n",
              "\n",
              "    .dataframe tbody tr th {\n",
              "        vertical-align: top;\n",
              "    }\n",
              "\n",
              "    .dataframe thead th {\n",
              "        text-align: right;\n",
              "    }\n",
              "</style>\n",
              "<table border=\"1\" class=\"dataframe\">\n",
              "  <thead>\n",
              "    <tr style=\"text-align: right;\">\n",
              "      <th></th>\n",
              "      <th>Name</th>\n",
              "      <th>Platform</th>\n",
              "      <th>Year</th>\n",
              "      <th>Genre</th>\n",
              "      <th>Global_Sales</th>\n",
              "      <th>Rand</th>\n",
              "      <th>Sports_and_Racing</th>\n",
              "    </tr>\n",
              "  </thead>\n",
              "  <tbody>\n",
              "    <tr>\n",
              "      <th>0</th>\n",
              "      <td>Wii Sports</td>\n",
              "      <td>Wii</td>\n",
              "      <td>2006</td>\n",
              "      <td>Sports</td>\n",
              "      <td>82.74</td>\n",
              "      <td>1</td>\n",
              "      <td>True</td>\n",
              "    </tr>\n",
              "    <tr>\n",
              "      <th>2</th>\n",
              "      <td>Mario Kart Wii</td>\n",
              "      <td>Wii</td>\n",
              "      <td>2008</td>\n",
              "      <td>Racing</td>\n",
              "      <td>35.82</td>\n",
              "      <td>0</td>\n",
              "      <td>True</td>\n",
              "    </tr>\n",
              "    <tr>\n",
              "      <th>3</th>\n",
              "      <td>Wii Sports Resort</td>\n",
              "      <td>Wii</td>\n",
              "      <td>2009</td>\n",
              "      <td>Sports</td>\n",
              "      <td>33.00</td>\n",
              "      <td>0</td>\n",
              "      <td>True</td>\n",
              "    </tr>\n",
              "    <tr>\n",
              "      <th>11</th>\n",
              "      <td>Mario Kart DS</td>\n",
              "      <td>DS</td>\n",
              "      <td>2005</td>\n",
              "      <td>Racing</td>\n",
              "      <td>23.42</td>\n",
              "      <td>0</td>\n",
              "      <td>True</td>\n",
              "    </tr>\n",
              "    <tr>\n",
              "      <th>13</th>\n",
              "      <td>Wii Fit</td>\n",
              "      <td>Wii</td>\n",
              "      <td>2007</td>\n",
              "      <td>Sports</td>\n",
              "      <td>22.72</td>\n",
              "      <td>0</td>\n",
              "      <td>True</td>\n",
              "    </tr>\n",
              "  </tbody>\n",
              "</table>\n",
              "</div>\n",
              "      <button class=\"colab-df-convert\" onclick=\"convertToInteractive('df-049cf01a-cf84-48d5-a300-436895f20eb6')\"\n",
              "              title=\"Convert this dataframe to an interactive table.\"\n",
              "              style=\"display:none;\">\n",
              "        \n",
              "  <svg xmlns=\"http://www.w3.org/2000/svg\" height=\"24px\"viewBox=\"0 0 24 24\"\n",
              "       width=\"24px\">\n",
              "    <path d=\"M0 0h24v24H0V0z\" fill=\"none\"/>\n",
              "    <path d=\"M18.56 5.44l.94 2.06.94-2.06 2.06-.94-2.06-.94-.94-2.06-.94 2.06-2.06.94zm-11 1L8.5 8.5l.94-2.06 2.06-.94-2.06-.94L8.5 2.5l-.94 2.06-2.06.94zm10 10l.94 2.06.94-2.06 2.06-.94-2.06-.94-.94-2.06-.94 2.06-2.06.94z\"/><path d=\"M17.41 7.96l-1.37-1.37c-.4-.4-.92-.59-1.43-.59-.52 0-1.04.2-1.43.59L10.3 9.45l-7.72 7.72c-.78.78-.78 2.05 0 2.83L4 21.41c.39.39.9.59 1.41.59.51 0 1.02-.2 1.41-.59l7.78-7.78 2.81-2.81c.8-.78.8-2.07 0-2.86zM5.41 20L4 18.59l7.72-7.72 1.47 1.35L5.41 20z\"/>\n",
              "  </svg>\n",
              "      </button>\n",
              "      \n",
              "  <style>\n",
              "    .colab-df-container {\n",
              "      display:flex;\n",
              "      flex-wrap:wrap;\n",
              "      gap: 12px;\n",
              "    }\n",
              "\n",
              "    .colab-df-convert {\n",
              "      background-color: #E8F0FE;\n",
              "      border: none;\n",
              "      border-radius: 50%;\n",
              "      cursor: pointer;\n",
              "      display: none;\n",
              "      fill: #1967D2;\n",
              "      height: 32px;\n",
              "      padding: 0 0 0 0;\n",
              "      width: 32px;\n",
              "    }\n",
              "\n",
              "    .colab-df-convert:hover {\n",
              "      background-color: #E2EBFA;\n",
              "      box-shadow: 0px 1px 2px rgba(60, 64, 67, 0.3), 0px 1px 3px 1px rgba(60, 64, 67, 0.15);\n",
              "      fill: #174EA6;\n",
              "    }\n",
              "\n",
              "    [theme=dark] .colab-df-convert {\n",
              "      background-color: #3B4455;\n",
              "      fill: #D2E3FC;\n",
              "    }\n",
              "\n",
              "    [theme=dark] .colab-df-convert:hover {\n",
              "      background-color: #434B5C;\n",
              "      box-shadow: 0px 1px 3px 1px rgba(0, 0, 0, 0.15);\n",
              "      filter: drop-shadow(0px 1px 2px rgba(0, 0, 0, 0.3));\n",
              "      fill: #FFFFFF;\n",
              "    }\n",
              "  </style>\n",
              "\n",
              "      <script>\n",
              "        const buttonEl =\n",
              "          document.querySelector('#df-049cf01a-cf84-48d5-a300-436895f20eb6 button.colab-df-convert');\n",
              "        buttonEl.style.display =\n",
              "          google.colab.kernel.accessAllowed ? 'block' : 'none';\n",
              "\n",
              "        async function convertToInteractive(key) {\n",
              "          const element = document.querySelector('#df-049cf01a-cf84-48d5-a300-436895f20eb6');\n",
              "          const dataTable =\n",
              "            await google.colab.kernel.invokeFunction('convertToInteractive',\n",
              "                                                     [key], {});\n",
              "          if (!dataTable) return;\n",
              "\n",
              "          const docLinkHtml = 'Like what you see? Visit the ' +\n",
              "            '<a target=\"_blank\" href=https://colab.research.google.com/notebooks/data_table.ipynb>data table notebook</a>'\n",
              "            + ' to learn more about interactive tables.';\n",
              "          element.innerHTML = '';\n",
              "          dataTable['output_type'] = 'display_data';\n",
              "          await google.colab.output.renderOutput(dataTable, element);\n",
              "          const docLink = document.createElement('div');\n",
              "          docLink.innerHTML = docLinkHtml;\n",
              "          element.appendChild(docLink);\n",
              "        }\n",
              "      </script>\n",
              "    </div>\n",
              "  </div>\n",
              "  "
            ],
            "text/plain": [
              "                 Name Platform  Year  ... Global_Sales  Rand  Sports_and_Racing\n",
              "0          Wii Sports      Wii  2006  ...        82.74     1               True\n",
              "2      Mario Kart Wii      Wii  2008  ...        35.82     0               True\n",
              "3   Wii Sports Resort      Wii  2009  ...        33.00     0               True\n",
              "11      Mario Kart DS       DS  2005  ...        23.42     0               True\n",
              "13            Wii Fit      Wii  2007  ...        22.72     0               True\n",
              "\n",
              "[5 rows x 7 columns]"
            ]
          },
          "metadata": {},
          "execution_count": 11
        }
      ]
    },
    {
      "cell_type": "code",
      "source": [
        "#reset index to actual values\n",
        "df_sports.reset_index(level=None, drop=True, inplace=True, col_level=0, col_fill='')\n",
        "df_sports.info()"
      ],
      "metadata": {
        "colab": {
          "base_uri": "https://localhost:8080/"
        },
        "id": "MrVLRxP5u1xF",
        "outputId": "2fe2deb1-e532-42a9-dce8-37791a8959d6"
      },
      "execution_count": null,
      "outputs": [
        {
          "output_type": "stream",
          "name": "stdout",
          "text": [
            "<class 'pandas.core.frame.DataFrame'>\n",
            "RangeIndex: 3530 entries, 0 to 3529\n",
            "Data columns (total 7 columns):\n",
            " #   Column             Non-Null Count  Dtype  \n",
            "---  ------             --------------  -----  \n",
            " 0   Name               3530 non-null   object \n",
            " 1   Platform           3530 non-null   object \n",
            " 2   Year               3530 non-null   int64  \n",
            " 3   Genre              3530 non-null   object \n",
            " 4   Global_Sales       3530 non-null   float64\n",
            " 5   Rand               3530 non-null   int64  \n",
            " 6   Sports_and_Racing  3530 non-null   bool   \n",
            "dtypes: bool(1), float64(1), int64(2), object(3)\n",
            "memory usage: 169.0+ KB\n"
          ]
        }
      ]
    },
    {
      "cell_type": "code",
      "source": [
        "#create our groups for t-test comparison purposes\n",
        "df_sports_2005=df_sports.loc[df_sports['Year']==2005]\n",
        "print(df_sports_2005.info())\n",
        "df_sports_2015=df_sports.loc[df_sports['Year']==2015]\n",
        "print(df_sports_2015.info())"
      ],
      "metadata": {
        "colab": {
          "base_uri": "https://localhost:8080/"
        },
        "id": "AkIqxw5hpPYy",
        "outputId": "80a36cd8-cc92-4319-def7-ba173d3f1421"
      },
      "execution_count": null,
      "outputs": [
        {
          "output_type": "stream",
          "name": "stdout",
          "text": [
            "<class 'pandas.core.frame.DataFrame'>\n",
            "Int64Index: 199 entries, 3 to 3508\n",
            "Data columns (total 7 columns):\n",
            " #   Column             Non-Null Count  Dtype  \n",
            "---  ------             --------------  -----  \n",
            " 0   Name               199 non-null    object \n",
            " 1   Platform           199 non-null    object \n",
            " 2   Year               199 non-null    int64  \n",
            " 3   Genre              199 non-null    object \n",
            " 4   Global_Sales       199 non-null    float64\n",
            " 5   Rand               199 non-null    int64  \n",
            " 6   Sports_and_Racing  199 non-null    bool   \n",
            "dtypes: bool(1), float64(1), int64(2), object(3)\n",
            "memory usage: 11.1+ KB\n",
            "None\n",
            "<class 'pandas.core.frame.DataFrame'>\n",
            "Int64Index: 81 entries, 14 to 3513\n",
            "Data columns (total 7 columns):\n",
            " #   Column             Non-Null Count  Dtype  \n",
            "---  ------             --------------  -----  \n",
            " 0   Name               81 non-null     object \n",
            " 1   Platform           81 non-null     object \n",
            " 2   Year               81 non-null     int64  \n",
            " 3   Genre              81 non-null     object \n",
            " 4   Global_Sales       81 non-null     float64\n",
            " 5   Rand               81 non-null     int64  \n",
            " 6   Sports_and_Racing  81 non-null     bool   \n",
            "dtypes: bool(1), float64(1), int64(2), object(3)\n",
            "memory usage: 4.5+ KB\n",
            "None\n"
          ]
        }
      ]
    },
    {
      "cell_type": "markdown",
      "source": [
        "Now we will run some t-tests. First we should check internal consistency, so we will a-a test using the Rand value as a sorting mechanism. "
      ],
      "metadata": {
        "id": "eYCxszjVsJH9"
      }
    },
    {
      "cell_type": "code",
      "source": [
        "#a-a test with games released in 2005\n",
        "sports_2005a = df_sports_2005.iloc[(df_sports_2005['Rand'] == 0).values]\n",
        "sports_2005b = df_sports_2005.iloc[(df_sports_2005['Rand'] == 1).values]\n",
        "#check group sizes\n",
        "print(len(sports_2005a))\n",
        "print(len(sports_2005b))\n",
        "p=stats.ttest_ind(sports_2005a['Global_Sales'], sports_2005b['Global_Sales'])\n",
        "if p[1]< .05:\n",
        "  print(\"There is a statistically significant difference\")\n",
        "else:\n",
        "    print(\"There is not a significant difference\") \n",
        "print(\"the p value is \",p[1])\n",
        "print(\"the correlation is \", p[0])"
      ],
      "metadata": {
        "colab": {
          "base_uri": "https://localhost:8080/"
        },
        "id": "FSZ7ZWzzsIUq",
        "outputId": "0faeaf1f-b92d-4b5a-cf26-d8780082dccc"
      },
      "execution_count": null,
      "outputs": [
        {
          "output_type": "stream",
          "name": "stdout",
          "text": [
            "107\n",
            "92\n",
            "There is not a significant difference\n",
            "the p value is  0.3098748181446466\n",
            "the correlation is  1.018109102210859\n"
          ]
        }
      ]
    },
    {
      "cell_type": "code",
      "source": [
        "#a-a test with games released in 2015\n",
        "sports_2015a = df_sports_2015.iloc[(df_sports_2015['Rand'] == 0).values]\n",
        "sports_2015b = df_sports_2015.iloc[(df_sports_2015['Rand'] == 1).values]\n",
        "#check group sales\n",
        "print(len(sports_2015a))\n",
        "print(len(sports_2015b))\n",
        "p=stats.ttest_ind(sports_2015a['Global_Sales'], sports_2015b['Global_Sales'])\n",
        "if p[1]< .05:\n",
        "  print(\"There is a statistically significant difference\")\n",
        "else:\n",
        "    print(\"There is not a significant difference\") \n",
        "print(\"the p value is \",p[1])\n",
        "print(\"the correlation is \", p[0])"
      ],
      "metadata": {
        "colab": {
          "base_uri": "https://localhost:8080/"
        },
        "id": "KToodJVK3-me",
        "outputId": "90c192ab-1bdd-49c9-9af2-e7e143a0c4a5"
      },
      "execution_count": null,
      "outputs": [
        {
          "output_type": "stream",
          "name": "stdout",
          "text": [
            "40\n",
            "41\n",
            "There is not a significant difference\n",
            "the p value is  0.5313403366003608\n",
            "the correlation is  -0.6287288090635827\n"
          ]
        }
      ]
    },
    {
      "cell_type": "markdown",
      "source": [
        "Now that we've confirmed both categories are internally consistent, we can do our proper comparison. "
      ],
      "metadata": {
        "id": "VMWmP9gr4S6i"
      }
    },
    {
      "cell_type": "code",
      "source": [
        "p_sports=stats.ttest_ind(df_sports_2005['Global_Sales'], df_sports_2015['Global_Sales'])\n",
        "if p_sports[1]< .05:\n",
        "  print(\"There is a statistically significant difference\")\n",
        "else:\n",
        "    print(\"There is not a significant difference\") \n",
        "print(\"the p value is \",p_sports[1])\n",
        "print(\"the correlation is \", p_sports[0])\n"
      ],
      "metadata": {
        "colab": {
          "base_uri": "https://localhost:8080/"
        },
        "id": "hifQ-2dtXjOn",
        "outputId": "56ba343f-7b56-4041-a9f3-ec7b00728198"
      },
      "execution_count": null,
      "outputs": [
        {
          "output_type": "stream",
          "name": "stdout",
          "text": [
            "There is not a significant difference\n",
            "the p value is  0.89772328178943\n",
            "the correlation is  -0.128655489815919\n"
          ]
        }
      ]
    },
    {
      "cell_type": "markdown",
      "source": [
        "Looks like there is no statistically significance in sales for these two groups, which means the null hypotheses holds true here. P > .05. Now that we have this information, we can spend some time visualizing what's going on."
      ],
      "metadata": {
        "id": "Ztuc53bWkFpz"
      }
    },
    {
      "cell_type": "code",
      "source": [
        "#combine dataframes for easy graphing:\n",
        "df_sports_2years=pd.concat([df_sports_2005, df_sports_2015])\n",
        "#barplots for our two years\n",
        "f, ax = plt.subplots(figsize=(3, 4))\n",
        "sports_2005= sns.barplot(x='Year', y='Global_Sales', data=df_sports_2years)\n",
        "ax.set(ylabel=\"Global Sales (millions)\")"
      ],
      "metadata": {
        "colab": {
          "base_uri": "https://localhost:8080/",
          "height": 304
        },
        "id": "po134fX8l5RX",
        "outputId": "fe41ac2b-913a-45e0-bcf6-cd058a9b33d7"
      },
      "execution_count": null,
      "outputs": [
        {
          "output_type": "execute_result",
          "data": {
            "text/plain": [
              "[Text(0, 0.5, 'Global Sales (millions)')]"
            ]
          },
          "metadata": {},
          "execution_count": 17
        },
        {
          "output_type": "display_data",
          "data": {
            "image/png": "[encoded data removed]",
            "text/plain": [
              "<Figure size 216x288 with 1 Axes>"
            ]
          },
          "metadata": {}
        }
      ]
    },
    {
      "cell_type": "markdown",
      "source": [
        "As we can see, these two years are pretty close. What if we look at all the years in between?"
      ],
      "metadata": {
        "id": "36Kz2CYtohod"
      }
    },
    {
      "cell_type": "code",
      "source": [
        "f, ax = plt.subplots(figsize=(10, 5))\n",
        "sports_all=sns.barplot(x='Year', y=\"Global_Sales\", data=df_sports).set(title='Global Sales for Sports/Racing Games')\n",
        "plt.xlim(24.5,36.5)\n",
        "plt.ylim(0,2)\n",
        "ax.set(ylabel=\"Global Sales (millions)\")"
      ],
      "metadata": {
        "colab": {
          "base_uri": "https://localhost:8080/",
          "height": 374
        },
        "id": "uynTWg9akT6X",
        "outputId": "4d4837a6-3b0c-4347-c832-25a15ad0a64c"
      },
      "execution_count": null,
      "outputs": [
        {
          "output_type": "execute_result",
          "data": {
            "text/plain": [
              "[Text(0, 0.5, 'Global Sales (millions)')]"
            ]
          },
          "metadata": {},
          "execution_count": 18
        },
        {
          "output_type": "display_data",
          "data": {
            "image/png": "[encoded data removed]",
            "text/plain": [
              "<Figure size 720x360 with 1 Axes>"
            ]
          },
          "metadata": {}
        }
      ]
    },
    {
      "cell_type": "markdown",
      "source": [
        "If we look at bar plots for all of the years of sports/racing sales between our selected years, we can see that there is a great deal of variance but no obvious trend. Most years have a great deal of overlap in the standard confidence interval. \n",
        "To further examine any trends for this time period we can look at another graph."
      ],
      "metadata": {
        "id": "9VyVM910kzs-"
      }
    },
    {
      "cell_type": "code",
      "source": [
        "sports_all_line=sns.relplot(x='Year', y=\"Global_Sales\", data=df_sports, kind='line',aspect=10/5).set(title='Global Sales for Sports/Racing Games')\n",
        "plt.xlim(2004,2016)\n",
        "plt.ylim(0,2)\n",
        "sports_all_line.set_ylabels(\"Global Sales (millions)\", clear_inner=False)"
      ],
      "metadata": {
        "colab": {
          "base_uri": "https://localhost:8080/",
          "height": 398
        },
        "id": "8NzXxycPqtf7",
        "outputId": "9c78ef6e-cc98-4e39-a708-8c87f9c1141c"
      },
      "execution_count": null,
      "outputs": [
        {
          "output_type": "execute_result",
          "data": {
            "text/plain": [
              "<seaborn.axisgrid.FacetGrid at 0x7fa29d8d0650>"
            ]
          },
          "metadata": {},
          "execution_count": 19
        },
        {
          "output_type": "display_data",
          "data": {
            "image/png": "[encoded data removed]",
            "text/plain": [
              "<Figure size 720x360 with 1 Axes>"
            ]
          },
          "metadata": {}
        }
      ]
    },
    {
      "cell_type": "markdown",
      "source": [
        "Now we can see a certain ebb and flow of sales without there being any particular trend.\n",
        "\n"
      ],
      "metadata": {
        "id": "O_bq41dutSBt"
      }
    },
    {
      "cell_type": "markdown",
      "source": [
        "# Part 2: PC Game Sales over time\n",
        "\n",
        "Now we'll take a look at PC game sales. This analysis can start directly from the original dataframe, filtering as we go."
      ],
      "metadata": {
        "id": "Ki0xxUPJKRp9"
      }
    },
    {
      "cell_type": "code",
      "source": [
        "#filter to just pc games:\n",
        "pc_games = df.iloc[(df['Platform'] == 'PC').values]\n",
        "#filter into two groups, 2008 and 2012:\n",
        "pc_games_2008 = pc_games.iloc[(pc_games['Year'] == 2008).values]\n",
        "pc_games_2012 = pc_games.iloc[(pc_games['Year'] == 2012).values]\n",
        "pc_games_2008.info()\n",
        "pc_games_2012.info()"
      ],
      "metadata": {
        "colab": {
          "base_uri": "https://localhost:8080/"
        },
        "id": "mKiQy8o3Khmy",
        "outputId": "3f0f33db-1164-4652-a014-231f96ff7bbd"
      },
      "execution_count": null,
      "outputs": [
        {
          "output_type": "stream",
          "name": "stdout",
          "text": [
            "<class 'pandas.core.frame.DataFrame'>\n",
            "Int64Index: 76 entries, 1486 to 16508\n",
            "Data columns (total 6 columns):\n",
            " #   Column        Non-Null Count  Dtype  \n",
            "---  ------        --------------  -----  \n",
            " 0   Name          76 non-null     object \n",
            " 1   Platform      76 non-null     object \n",
            " 2   Year          76 non-null     int64  \n",
            " 3   Genre         76 non-null     object \n",
            " 4   Global_Sales  76 non-null     float64\n",
            " 5   Rand          76 non-null     int64  \n",
            "dtypes: float64(1), int64(2), object(3)\n",
            "memory usage: 4.2+ KB\n",
            "<class 'pandas.core.frame.DataFrame'>\n",
            "Int64Index: 61 entries, 181 to 16566\n",
            "Data columns (total 6 columns):\n",
            " #   Column        Non-Null Count  Dtype  \n",
            "---  ------        --------------  -----  \n",
            " 0   Name          61 non-null     object \n",
            " 1   Platform      61 non-null     object \n",
            " 2   Year          61 non-null     int64  \n",
            " 3   Genre         61 non-null     object \n",
            " 4   Global_Sales  61 non-null     float64\n",
            " 5   Rand          61 non-null     int64  \n",
            "dtypes: float64(1), int64(2), object(3)\n",
            "memory usage: 3.3+ KB\n"
          ]
        }
      ]
    },
    {
      "cell_type": "markdown",
      "source": [
        "Our dataset here is small, and internal consistency isn't particularly relevant at this scale, so we can jump straight to A-B testing:"
      ],
      "metadata": {
        "id": "HK10XgD7M_ey"
      }
    },
    {
      "cell_type": "code",
      "source": [
        "#t-test between PC sales in 2008 vs 2012:\n",
        "p_pc_year=stats.ttest_ind(pc_games_2008['Global_Sales'], pc_games_2012['Global_Sales'])\n",
        "if p_pc_year[1]< .05:\n",
        "  print(\"There is a statistically significant difference\")\n",
        "else:\n",
        "    print(\"There is not a significant difference\") \n",
        "print(\"the p value is \",p_pc_year[1])\n",
        "print(\"the correlation is \", p_pc_year[0])"
      ],
      "metadata": {
        "colab": {
          "base_uri": "https://localhost:8080/"
        },
        "id": "KsJl0k_NNHPk",
        "outputId": "3a91b769-5466-420c-d2ef-fc0287de6c92"
      },
      "execution_count": null,
      "outputs": [
        {
          "output_type": "stream",
          "name": "stdout",
          "text": [
            "There is a statistically significant difference\n",
            "the p value is  0.02766891975087625\n",
            "the correlation is  -2.226048880296559\n"
          ]
        }
      ]
    },
    {
      "cell_type": "markdown",
      "source": [
        "We can see here that the P value is close to .05 but not below, so we have a relatively weak difference here. Now, to graph it!\n"
      ],
      "metadata": {
        "id": "R1cSnWurNnEi"
      }
    },
    {
      "cell_type": "code",
      "source": [
        "#combine dataframes for easy graphing:\n",
        "pc_games_2years=pd.concat([pc_games_2008, pc_games_2012])\n",
        "#barplots for our two years\n",
        "f, ax = plt.subplots(figsize=(3, 4))\n",
        "pc_2years= sns.barplot(x='Year', y='Global_Sales', data=pc_games_2years).set(title='PC Sales in 2008 vs 2012')\n",
        "ax.set(ylabel=\"Global Sales (millions)\")"
      ],
      "metadata": {
        "colab": {
          "base_uri": "https://localhost:8080/",
          "height": 319
        },
        "id": "C1p89izqNyCc",
        "outputId": "2a69898c-c3d2-461a-a7ce-a8012c5aca36"
      },
      "execution_count": null,
      "outputs": [
        {
          "output_type": "execute_result",
          "data": {
            "text/plain": [
              "[Text(0, 0.5, 'Global Sales (millions)')]"
            ]
          },
          "metadata": {},
          "execution_count": 22
        },
        {
          "output_type": "display_data",
          "data": {
            "image/png": "[encoded data removed]",
            "text/plain": [
              "<Figure size 216x288 with 1 Axes>"
            ]
          },
          "metadata": {}
        }
      ]
    },
    {
      "cell_type": "markdown",
      "source": [
        "Because of our relatively small sample size, the error bars are pretty large here, but we can see see a statistically significant increase in sales. \n",
        "\n",
        "We will look at some big picture data in terms of PC vs Console sales over the years in the next section, but we can examine our PC data a little further now:"
      ],
      "metadata": {
        "id": "QavAROJDOHcl"
      }
    },
    {
      "cell_type": "code",
      "source": [
        "f, ax = plt.subplots(figsize=(12, 4))\n",
        "pc_years= sns.barplot(x='Year', y='Global_Sales', data=pc_games).set(title='Global Sales for Every Year on PC')\n",
        "ax.set(ylabel=\"Global Sales (millions)\")\n",
        "plt.xlim(14.5)\n",
        "plt.ylim(0,1)"
      ],
      "metadata": {
        "colab": {
          "base_uri": "https://localhost:8080/",
          "height": 319
        },
        "id": "k4th8t_DOXw5",
        "outputId": "7e9b3b62-2c63-45e1-bd07-d29183e9ba6c"
      },
      "execution_count": null,
      "outputs": [
        {
          "output_type": "execute_result",
          "data": {
            "text/plain": [
              "(0.0, 1.0)"
            ]
          },
          "metadata": {},
          "execution_count": 23
        },
        {
          "output_type": "display_data",
          "data": {
            "image/png": "[encoded data removed]",
            "text/plain": [
              "<Figure size 864x288 with 1 Axes>"
            ]
          },
          "metadata": {}
        }
      ]
    },
    {
      "cell_type": "code",
      "source": [
        "ticks=[2005,2006,2007,2008,2009,2010,2011,2012,2013,2014,2015]\n",
        "pc_line=sns.relplot(x='Year', y=\"Global_Sales\", data=pc_games, kind='line',aspect=10/5).set(title='Global Sales for PC by Year')\n",
        "plt.xlim(2005,2015)\n",
        "plt.xticks(ticks)\n",
        "plt.ylim(0,1)\n",
        "ax.set(ylabel=\"Global Sales (millions)\")"
      ],
      "metadata": {
        "colab": {
          "base_uri": "https://localhost:8080/",
          "height": 399
        },
        "id": "s8SsynblPeQK",
        "outputId": "0dac59ab-7fbf-4029-859c-3dc0724d0517"
      },
      "execution_count": null,
      "outputs": [
        {
          "output_type": "execute_result",
          "data": {
            "text/plain": [
              "[Text(20.199999999999996, 0.5, 'Global Sales (millions)')]"
            ]
          },
          "metadata": {},
          "execution_count": 24
        },
        {
          "output_type": "display_data",
          "data": {
            "image/png": "[encoded data removed]",
            "text/plain": [
              "<Figure size 720x360 with 1 Axes>"
            ]
          },
          "metadata": {}
        }
      ]
    },
    {
      "cell_type": "markdown",
      "source": [
        "Now we can visualize the rise in PC gaming that peaked around 2012."
      ],
      "metadata": {
        "id": "2uUZpL-0Pqgt"
      }
    },
    {
      "cell_type": "markdown",
      "source": [
        "# Bonus: PC vs Console Games\n",
        "The setup for this analysis should be simpler, since we can work directly from the original dataframe."
      ],
      "metadata": {
        "id": "iXQ9D9N3KPpG"
      }
    },
    {
      "cell_type": "code",
      "source": [
        "#set up filtered groups:\n",
        "pc_games = df.iloc[(df['Platform'] == 'PC').values]\n",
        "non_pc_games = df.iloc[(df['Platform'] != 'PC').values]\n",
        "#check group sizes\n",
        "print(len(pc_games), \" game listings for PC\")\n",
        "print(len(non_pc_games), \" game listings for non-PC\")\n",
        "#internal a-a testing for PC:\n",
        "pc_games_a =pc_games.iloc[(pc_games['Rand'] == 0).values]\n",
        "pc_games_b =pc_games.iloc[(pc_games['Rand'] == 1).values]\n",
        "print(len(pc_games_a), \" game listings for PC group a\")\n",
        "print(len(pc_games_b), \" game listings for PC group b\")\n",
        "a=stats.ttest_ind(pc_games_a['Global_Sales'], pc_games_b['Global_Sales'])\n",
        "print(\"T-test results for a-a PC group testing: \", a)\n",
        "#internal a-a testing for not PC:\n",
        "non_pc_games_a =non_pc_games.iloc[(non_pc_games['Rand'] == 0).values]\n",
        "non_pc_games_b =non_pc_games.iloc[(non_pc_games['Rand'] == 1).values]\n",
        "print(len(non_pc_games_a), \" game listings for non-PC group a\")\n",
        "print(len(non_pc_games_b), \" game listings for non-PC group b\")\n",
        "b=stats.ttest_ind(non_pc_games_a['Global_Sales'], non_pc_games_b['Global_Sales'])\n",
        "print(\"T-test results for a-a non-PC group testing: \", b)\n",
        "\n",
        "if a[1] > .05:\n",
        "  if b[1] >.05:\n",
        "    print(\"Both groups are internally consistent\")\n",
        "  else:\n",
        "      print('One or Both groups are not internally consistent')\n",
        "else:\n",
        "  print('One or Both groups are not internally consistent')\n",
        "#stats.ttest_ind(group1['Global_Sales'], group2['Global_Sales'])\n"
      ],
      "metadata": {
        "colab": {
          "base_uri": "https://localhost:8080/"
        },
        "id": "k6EZAJoquXkH",
        "outputId": "791e3a84-772c-4af7-8fd9-db3d93e720bc"
      },
      "execution_count": null,
      "outputs": [
        {
          "output_type": "stream",
          "name": "stdout",
          "text": [
            "943  game listings for PC\n",
            "15384  game listings for non-PC\n",
            "477  game listings for PC group a\n",
            "466  game listings for PC group b\n",
            "T-test results for a-a PC group testing:  Ttest_indResult(statistic=0.3956395553372786, pvalue=0.6924606313393289)\n",
            "7744  game listings for non-PC group a\n",
            "7640  game listings for non-PC group b\n",
            "T-test results for a-a PC group testing:  Ttest_indResult(statistic=1.0175042084723107, pvalue=0.30892963465495404)\n",
            "Both groups are internally consistent\n"
          ]
        }
      ]
    },
    {
      "cell_type": "markdown",
      "source": [
        "Because non-PC games encompass such a wide variety, there can be a lot of variability within that group. So it is not surprising that the P-value for the internal non-PC t-test is lower."
      ],
      "metadata": {
        "id": "uEVBvny3b4F6"
      }
    },
    {
      "cell_type": "code",
      "source": [
        "#t-test between PC and not PC groups:\n",
        "p_pc_console=stats.ttest_ind(pc_games['Global_Sales'], non_pc_games['Global_Sales'])\n",
        "if p_pc_console[1]< .05:\n",
        "  print(\"There is a statistically significant difference\")\n",
        "else:\n",
        "    print(\"There is not a significant difference\") \n",
        "print(\"the p value is \",p_pc_console[1])\n",
        "print(\"the correlation is \", p_pc_console[0])"
      ],
      "metadata": {
        "colab": {
          "base_uri": "https://localhost:8080/"
        },
        "id": "kUhCSiihwOyD",
        "outputId": "8ff19451-6161-44a6-9756-16af9d36ae18"
      },
      "execution_count": null,
      "outputs": [
        {
          "output_type": "stream",
          "name": "stdout",
          "text": [
            "There is a statistically significant difference\n",
            "the p value is  4.958040170948757e-08\n",
            "the correlation is  -5.4553760691812565\n"
          ]
        }
      ]
    },
    {
      "cell_type": "markdown",
      "source": [
        "As we can see, there is a significant difference in these two groupings. Let's look at some visualizations to get a better idea of the difference."
      ],
      "metadata": {
        "id": "nlWqfP9m8wZx"
      }
    },
    {
      "cell_type": "code",
      "source": [
        "#add tag to non-pc games for sorting:\n",
        "pc_games['PC_or_Console'] = \"PC\"\n",
        "non_pc_games['PC_or_Console'] = \"Console\"\n",
        "#combine dataframes for easy graphing:\n",
        "pc_or_console=pd.concat([pc_games, non_pc_games])\n",
        "#barplots for our two years\n",
        "f, ax = plt.subplots(figsize=(3, 4))\n",
        "pc_or_console_bar= sns.barplot(x='PC_or_Console', y='Global_Sales', data=pc_or_console).set(title='Global Sales for Every Year, PC vs Console')\n",
        "ax.set(ylabel=\"Global Sales (millions)\")"
      ],
      "metadata": {
        "colab": {
          "base_uri": "https://localhost:8080/",
          "height": 558
        },
        "id": "OkIY9jIu9SO0",
        "outputId": "6b6f3582-55b4-4c69-9f3f-4dd501e27508"
      },
      "execution_count": null,
      "outputs": [
        {
          "output_type": "stream",
          "name": "stderr",
          "text": [
            "/usr/local/lib/python3.7/dist-packages/ipykernel_launcher.py:2: SettingWithCopyWarning: \n",
            "A value is trying to be set on a copy of a slice from a DataFrame.\n",
            "Try using .loc[row_indexer,col_indexer] = value instead\n",
            "\n",
            "See the caveats in the documentation: https://pandas.pydata.org/pandas-docs/stable/user_guide/indexing.html#returning-a-view-versus-a-copy\n",
            "  \n",
            "/usr/local/lib/python3.7/dist-packages/ipykernel_launcher.py:3: SettingWithCopyWarning: \n",
            "A value is trying to be set on a copy of a slice from a DataFrame.\n",
            "Try using .loc[row_indexer,col_indexer] = value instead\n",
            "\n",
            "See the caveats in the documentation: https://pandas.pydata.org/pandas-docs/stable/user_guide/indexing.html#returning-a-view-versus-a-copy\n",
            "  This is separate from the ipykernel package so we can avoid doing imports until\n"
          ]
        },
        {
          "output_type": "execute_result",
          "data": {
            "text/plain": [
              "[Text(0, 0.5, 'Global Sales (millions)')]"
            ]
          },
          "metadata": {},
          "execution_count": 59
        },
        {
          "output_type": "display_data",
          "data": {
            "image/png": "[encoded data removed]",
            "text/plain": [
              "<Figure size 216x288 with 1 Axes>"
            ]
          },
          "metadata": {}
        }
      ]
    },
    {
      "cell_type": "markdown",
      "source": [
        "We can look at this same comparison year by year, using color as a differentiator:"
      ],
      "metadata": {
        "id": "Uh3OSQOz-xPz"
      }
    },
    {
      "cell_type": "code",
      "source": [
        "f, ax = plt.subplots(figsize=(12, 4))\n",
        "pc_vs_console_year= sns.barplot(x='Year', y='Global_Sales', hue='PC_or_Console', data=pc_or_console).set(title='Global Sales for Every Year, PC vs Console')\n",
        "ax.set(ylabel=\"Global Sales (millions)\")\n",
        "plt.xlim(24.5,36.5)\n",
        "plt.ylim(0,1)"
      ],
      "metadata": {
        "colab": {
          "base_uri": "https://localhost:8080/",
          "height": 319
        },
        "id": "civE1HuD-5Y7",
        "outputId": "cc4cf646-b16d-436f-ed9f-20ecc92bbc2d"
      },
      "execution_count": null,
      "outputs": [
        {
          "output_type": "execute_result",
          "data": {
            "text/plain": [
              "(0.0, 1.0)"
            ]
          },
          "metadata": {},
          "execution_count": 60
        },
        {
          "output_type": "display_data",
          "data": {
            "image/png": "[encoded data removed]",
            "text/plain": [
              "<Figure size 864x288 with 1 Axes>"
            ]
          },
          "metadata": {}
        }
      ]
    },
    {
      "cell_type": "markdown",
      "source": [
        "This provides some very useful information, in that we can see an uptick in PC gaming around 2012 (which was when many blockbuster PC games were released), and a separate peak in non-PC gaming in 2013. Some of the reduction in numbers towards the end of this time period could actually be ascribed to digital-only sales, as vgchartz has stated they had difficulty making estimates for those sales.\n",
        "This may be easier to visualize in a line graph or a histogram:"
      ],
      "metadata": {
        "id": "j8GwjAUB_VPV"
      }
    },
    {
      "cell_type": "code",
      "source": [
        "ticks=[2005,2006,2007,2008,2009,2010,2011,2012,2013,2014,2015]\n",
        "pc_vs_console_year_line=sns.relplot(x='Year', y=\"Global_Sales\", data=pc_or_console, hue='PC_or_Console', kind='line',aspect=10/5).set(title='Global Sales for PC vs Console Games')\n",
        "plt.xlim(2005,2015)\n",
        "plt.xticks(ticks)\n",
        "plt.ylim(0,2)\n",
        "ax.set(ylabel=\"Global Sales (millions)\")"
      ],
      "metadata": {
        "colab": {
          "base_uri": "https://localhost:8080/",
          "height": 399
        },
        "id": "cvzYl7S__wf3",
        "outputId": "ceefae61-fe52-48d4-f4cc-f97c0dab273f"
      },
      "execution_count": null,
      "outputs": [
        {
          "output_type": "execute_result",
          "data": {
            "text/plain": [
              "[Text(20.199999999999996, 0.5, 'Global Sales (millions)')]"
            ]
          },
          "metadata": {},
          "execution_count": 61
        },
        {
          "output_type": "display_data",
          "data": {
            "image/png": "[encoded data removed]",
            "text/plain": [
              "<Figure size 816.175x360 with 1 Axes>"
            ]
          },
          "metadata": {}
        }
      ]
    },
    {
      "cell_type": "code",
      "source": [
        "ax.set(ylabel=\"Global Sales (millions)\")\n",
        "f, ax = plt.subplots(figsize=(12, 4))\n",
        "pc_vs_console_year_hist=sns.histplot(x=\"Year\", hue=\"PC_or_Console\", binwidth=1, multiple=\"dodge\", data=pc_or_console).set(title='Count of Games for PC vs Console')\n",
        "plt.xlim(2004.5,2015.5)\n",
        "plt.xticks(ticks)\n",
        "#pc_vs_console_year_hist.set_xticklabels([\"1-25\", \"25-45\", \"45-55\", \"55-80\"])\n",
        "ax.set(ylabel=\"Count of Games Made for Each Platform\")"
      ],
      "metadata": {
        "colab": {
          "base_uri": "https://localhost:8080/",
          "height": 319
        },
        "id": "LhvXpv8kIIXY",
        "outputId": "fbb014d1-8027-418d-a06d-77f26dcdc2cd"
      },
      "execution_count": null,
      "outputs": [
        {
          "output_type": "execute_result",
          "data": {
            "text/plain": [
              "[Text(0, 0.5, 'Count of Games Made for Each Platform')]"
            ]
          },
          "metadata": {},
          "execution_count": 62
        },
        {
          "output_type": "display_data",
          "data": {
            "image/png": "[encoded data removed]",
            "text/plain": [
              "<Figure size 864x288 with 1 Axes>"
            ]
          },
          "metadata": {}
        }
      ]
    },
    {
      "cell_type": "markdown",
      "source": [
        "We can see a definite dip approaching the end of the dataset, which we can attribute, again, to vgchartz's difficulty in estimating digital sales. That being said, the trends we noticed in our 2005-2015 range still hold. Interestingly, we can see from the histogram that there are a vastly larger number of different console games being sold, which tells us there isn't as much variety in the PC gaming world (and that games in the PC world quite possibly have greater individual sales, which could be a matter of price or of volume - something beyond the scope of this analysis)."
      ],
      "metadata": {
        "id": "TcTF3TsKAbpM"
      }
    },
    {
      "cell_type": "markdown",
      "source": [
        "# Conclusion and Recommendations\n",
        "\n",
        "This analysis was a great learning experience, in terms of starting at the very beginning of understanding where a dataset comes from, the difficulties of organizing and creating the dataset, as well as the actual analysis. We pulled out some interesting trends in terms of year-to-year sales, genre, and platform, which would prove useful to executives trying to make decisions for their game companies. Based on this data, I would urge companies to explore the possibility of increasing the games released for PC, as we see there is a dearth of variety in PC games even though the platform itself is robust and versatile. (And, indeed, in 2021 and 2022 more publishers have begun to release games for the PC!) I also would urge publishers to share more of their real-world sales data for the benefit of consumers and all companies, as projecting analysis these days can be extremely difficult without physical sales to track. I would be curious to integrate more complete data from 2018-present into this dataset, but for now these results will stand on their own.\n",
        "\n",
        "One final note: I assigned discrete variables to most of the graphs and t-test results of this report. The intention is to format this Python project in such a way to produce a completed document, for use in non-Jupyter formats. I intend to implement this feature when I share a version of this project on Git, but I am not including it in this version."
      ],
      "metadata": {
        "id": "bzFdpJ_m3zbr"
      }
    }
  ]
}